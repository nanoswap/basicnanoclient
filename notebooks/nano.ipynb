{
 "cells": [
  {
   "cell_type": "code",
   "execution_count": 1,
   "id": "96dc9f0f",
   "metadata": {},
   "outputs": [],
   "source": [
    "import subprocess\n",
    "import time\n",
    "import os\n",
    "\n",
    "from basicnanoclient.rpc import RPC\n",
    "from basicnanoclient.wallet import Wallet\n",
    "from basicnanoclient.utils import Utils"
   ]
  },
  {
   "cell_type": "markdown",
   "id": "3c70013a",
   "metadata": {},
   "source": [
    "# Create a Wallet/Account"
   ]
  },
  {
   "cell_type": "code",
   "execution_count": 2,
   "id": "5b9ccb94",
   "metadata": {},
   "outputs": [],
   "source": [
    "# Keep your seed and private key secret for production accounts!\n",
    "if not os.environ.get(\"seed\"):\n",
    "    seed = Utils.generate_seed()\n",
    "    account = Wallet(seed, 2)\n",
    "else:\n",
    "    account = Wallet(os.environ[\"seed\"], 2)"
   ]
  },
  {
   "cell_type": "code",
   "execution_count": 3,
   "id": "ab3dc9a9",
   "metadata": {},
   "outputs": [
    {
     "data": {
      "text/plain": [
       "[{'private': '8d1826b9fa6259036932cb3e2573a5d73251fc93827836dd92ed8906718b4213',\n",
       "  'public': '0a9f0b485812f1658cfe67cd63f65c7188d378855b0f2e1e255f57e28592e10f',\n",
       "  'account': 'nano_14nz3f67i6qjep8hwsyfehu7rweatfwacprh7rh4cqtqwc4s7rah5j1ji8b4'},\n",
       " {'private': '1380f639572dfbf5f2fcaa1dd9f0deadfe48a9977f4f61f28f28ef4a6d3c84b5',\n",
       "  'public': '68705d0b614c1423eac5dac162482981f3cc1f28cae56f529fc72c185c6818b4',\n",
       "  'account': 'nano_1t5idn7p4m1n6hoedpp3eb64m1hmsihkjkq7fxbbzjse53g8i87n4iju7y76'}]"
      ]
     },
     "execution_count": 3,
     "metadata": {},
     "output_type": "execute_result"
    }
   ],
   "source": [
    "account.accounts"
   ]
  },
  {
   "cell_type": "code",
   "execution_count": 4,
   "id": "078456c0",
   "metadata": {},
   "outputs": [
    {
     "data": {
      "text/plain": [
       "'5b56f8b1650ba23b965b0b5d218742d982fffe6881bdb3792ace38bce8ad9ed7'"
      ]
     },
     "execution_count": 4,
     "metadata": {},
     "output_type": "execute_result"
    }
   ],
   "source": [
    "account.seed"
   ]
  },
  {
   "cell_type": "markdown",
   "id": "5ef1bb79",
   "metadata": {},
   "source": [
    "# Check that the nano node is running\n",
    "\n",
    "See readme or nano currency documentation for instructions on starting the node"
   ]
  },
  {
   "cell_type": "code",
   "execution_count": 5,
   "id": "ddfe7f40",
   "metadata": {},
   "outputs": [
    {
     "name": "stdout",
     "output_type": "stream",
     "text": [
      "{\n",
      "    \"count\": \"31913\",\n",
      "    \"unchecked\": \"0\",\n",
      "    \"cemented\": \"31913\"\n",
      "}\n",
      "\n"
     ]
    },
    {
     "name": "stderr",
     "output_type": "stream",
     "text": [
      "  % Total    % Received % Xferd  Average Speed   Time    Time     Time  Current\n",
      "                                 Dload  Upload   Total   Spent    Left  Speed\n",
      "100   101  100    72  100    29  12940   5212 --:--:-- --:--:-- --:--:-- 20200\n"
     ]
    }
   ],
   "source": [
    "command = \"\"\"\n",
    "curl -d '{\n",
    "  \"action\": \"block_count\"\n",
    "}' http://127.0.0.1:17076\n",
    "\"\"\"\n",
    "\n",
    "output = subprocess.check_output(command, shell=True)\n",
    "print(output.decode(\"utf-8\"))"
   ]
  },
  {
   "cell_type": "code",
   "execution_count": 6,
   "id": "8afb4716",
   "metadata": {},
   "outputs": [],
   "source": [
    "client = RPC(\"http://127.0.0.1:17076\")"
   ]
  },
  {
   "cell_type": "markdown",
   "id": "00278eab",
   "metadata": {},
   "source": [
    "# Receive the first transaction for an account (Create an Open Block)"
   ]
  },
  {
   "cell_type": "code",
   "execution_count": 18,
   "id": "4573a560",
   "metadata": {},
   "outputs": [
    {
     "data": {
      "text/plain": [
       "{'block_account': 'nano_3n6cw5kaxx1egkwf7wzdkayz8howhqukw8cjeqnm6wf6h5318c6z6eicdr3k',\n",
       " 'amount': '2000000000000000000000000000',\n",
       " 'balance': '495900000000000000000000000000',\n",
       " 'height': '4',\n",
       " 'local_timestamp': '1722805952',\n",
       " 'successor': '0000000000000000000000000000000000000000000000000000000000000000',\n",
       " 'confirmed': 'true',\n",
       " 'contents': {'type': 'state',\n",
       "  'account': 'nano_3n6cw5kaxx1egkwf7wzdkayz8howhqukw8cjeqnm6wf6h5318c6z6eicdr3k',\n",
       "  'previous': '4BD87F59EB8CD3AA4661B6AEE3381CD107E00D31120214C226C486641391361A',\n",
       "  'representative': 'nano_1jg8zygjg3pp5w644emqcbmjqpnzmubfni3kfe1s8pooeuxsw49fdq1mco9j',\n",
       "  'balance': '495900000000000000000000000000',\n",
       "  'link': '0A9F0B485812F1658CFE67CD63F65C7188D378855B0F2E1E255F57E28592E10F',\n",
       "  'link_as_account': 'nano_14nz3f67i6qjep8hwsyfehu7rweatfwacprh7rh4cqtqwc4s7rah5j1ji8b4',\n",
       "  'signature': '800CC66EA37B4C8FE3B23AAF148D7CEFC39063A973C37D4C9AD4C42437D787BA6CF5B1E7A60B2AC317F1181154E4024181097E0941F2F75BF3BCC6703C01C605',\n",
       "  'work': 'b521211675fc0e43'},\n",
       " 'subtype': 'send'}"
      ]
     },
     "execution_count": 18,
     "metadata": {},
     "output_type": "execute_result"
    }
   ],
   "source": [
    "response = client.block_info(\"67B233F21D038D5DAB5634D19738EAA7D92DE62378AC8B2E263C6FEAC1534023\")\n",
    "response"
   ]
  },
  {
   "cell_type": "code",
   "execution_count": 19,
   "id": "55901987",
   "metadata": {},
   "outputs": [
    {
     "data": {
      "text/plain": [
       "{'blocks': {'67B233F21D038D5DAB5634D19738EAA7D92DE62378AC8B2E263C6FEAC1534023': {'amount': '2000000000000000000000000000',\n",
       "   'source': 'nano_3n6cw5kaxx1egkwf7wzdkayz8howhqukw8cjeqnm6wf6h5318c6z6eicdr3k'}}}"
      ]
     },
     "execution_count": 19,
     "metadata": {},
     "output_type": "execute_result"
    }
   ],
   "source": [
    "response = client.receivable(account.accounts[0]['account'])\n",
    "response"
   ]
  },
  {
   "cell_type": "code",
   "execution_count": 20,
   "id": "78cda950",
   "metadata": {},
   "outputs": [
    {
     "data": {
      "text/plain": [
       "'67B233F21D038D5DAB5634D19738EAA7D92DE62378AC8B2E263C6FEAC1534023'"
      ]
     },
     "execution_count": 20,
     "metadata": {},
     "output_type": "execute_result"
    }
   ],
   "source": [
    "block = next(iter(response['blocks'].keys()))\n",
    "block"
   ]
  },
  {
   "cell_type": "code",
   "execution_count": 21,
   "id": "9e654605",
   "metadata": {},
   "outputs": [
    {
     "data": {
      "text/plain": [
       "{'block_account': 'nano_3n6cw5kaxx1egkwf7wzdkayz8howhqukw8cjeqnm6wf6h5318c6z6eicdr3k',\n",
       " 'amount': '2000000000000000000000000000',\n",
       " 'balance': '495900000000000000000000000000',\n",
       " 'height': '4',\n",
       " 'local_timestamp': '1722805952',\n",
       " 'successor': '0000000000000000000000000000000000000000000000000000000000000000',\n",
       " 'confirmed': 'true',\n",
       " 'contents': {'type': 'state',\n",
       "  'account': 'nano_3n6cw5kaxx1egkwf7wzdkayz8howhqukw8cjeqnm6wf6h5318c6z6eicdr3k',\n",
       "  'previous': '4BD87F59EB8CD3AA4661B6AEE3381CD107E00D31120214C226C486641391361A',\n",
       "  'representative': 'nano_1jg8zygjg3pp5w644emqcbmjqpnzmubfni3kfe1s8pooeuxsw49fdq1mco9j',\n",
       "  'balance': '495900000000000000000000000000',\n",
       "  'link': '0A9F0B485812F1658CFE67CD63F65C7188D378855B0F2E1E255F57E28592E10F',\n",
       "  'link_as_account': 'nano_14nz3f67i6qjep8hwsyfehu7rweatfwacprh7rh4cqtqwc4s7rah5j1ji8b4',\n",
       "  'signature': '800CC66EA37B4C8FE3B23AAF148D7CEFC39063A973C37D4C9AD4C42437D787BA6CF5B1E7A60B2AC317F1181154E4024181097E0941F2F75BF3BCC6703C01C605',\n",
       "  'work': 'b521211675fc0e43'},\n",
       " 'subtype': 'send'}"
      ]
     },
     "execution_count": 21,
     "metadata": {},
     "output_type": "execute_result"
    }
   ],
   "source": [
    "block_info = client.block_info(block)\n",
    "block_info"
   ]
  },
  {
   "cell_type": "code",
   "execution_count": 24,
   "id": "412bb037",
   "metadata": {},
   "outputs": [
    {
     "name": "stdout",
     "output_type": "stream",
     "text": [
      "{'hash': '0A9F0B485812F1658CFE67CD63F65C7188D378855B0F2E1E255F57E28592E10F', 'work': '56fb203b7a33151b', 'difficulty': 'fffffffaaaf1ca3d', 'multiplier': '1.500305290326670'}\n"
     ]
    },
    {
     "data": {
      "text/plain": [
       "'56fb203b7a33151b'"
      ]
     },
     "execution_count": 24,
     "metadata": {},
     "output_type": "execute_result"
    }
   ],
   "source": [
    "work = \"56fb203b7a33151b\"  # only need to compute once\n",
    "if not work:\n",
    "    # {'hash': '0A9F0B485812F1658CFE67CD63F65C7188D378855B0F2E1E255F57E28592E10F', 'work': '56fb203b7a33151b', 'difficulty': 'fffffffaaaf1ca3d', 'multiplier': '1.500305290326670'}\n",
    "    work = Wallet.generate_work_rpc(account.accounts[0]['public'])\n",
    "\n",
    "work"
   ]
  },
  {
   "cell_type": "code",
   "execution_count": 25,
   "id": "b3e55950",
   "metadata": {},
   "outputs": [
    {
     "data": {
      "text/plain": [
       "{'valid_all': '1',\n",
       " 'valid_receive': '1',\n",
       " 'difficulty': 'fffffffaaaf1ca3d',\n",
       " 'multiplier': '1.500305290326670'}"
      ]
     },
     "execution_count": 25,
     "metadata": {},
     "output_type": "execute_result"
    }
   ],
   "source": [
    "response = client.work_validate(work, account.accounts[0]['public'])\n",
    "response"
   ]
  },
  {
   "cell_type": "code",
   "execution_count": 26,
   "id": "2cad7246",
   "metadata": {},
   "outputs": [
    {
     "name": "stdout",
     "output_type": "stream",
     "text": [
      "{'signature': 'CE58AEDDCB2E86F30256D398A7E0D68C2ACB19C75F632989A1E9A77EAA405F035CC815BFEF0B2E9D9E93148934A9D8CD0E26228D5C098DDE83E924FC75384303', 'block': {'type': 'state', 'account': 'nano_14nz3f67i6qjep8hwsyfehu7rweatfwacprh7rh4cqtqwc4s7rah5j1ji8b4', 'previous': '0000000000000000000000000000000000000000000000000000000000000000', 'representative': 'nano_14nz3f67i6qjep8hwsyfehu7rweatfwacprh7rh4cqtqwc4s7rah5j1ji8b4', 'balance': '2000000000000000000000000000', 'link': '67B233F21D038D5DAB5634D19738EAA7D92DE62378AC8B2E263C6FEAC1534023', 'link_as_account': 'nano_1sxk8hs3t1wfdpooef8jkwwgobys7qm48y7ejeq4eh5hxd1o8i35gqyqnt37', 'signature': 'CE58AEDDCB2E86F30256D398A7E0D68C2ACB19C75F632989A1E9A77EAA405F035CC815BFEF0B2E9D9E93148934A9D8CD0E26228D5C098DDE83E924FC75384303', 'work': '56fb203b7a33151b'}}\n",
      "{'type': 'state', 'account': 'nano_14nz3f67i6qjep8hwsyfehu7rweatfwacprh7rh4cqtqwc4s7rah5j1ji8b4', 'previous': '0000000000000000000000000000000000000000000000000000000000000000', 'representative': 'nano_14nz3f67i6qjep8hwsyfehu7rweatfwacprh7rh4cqtqwc4s7rah5j1ji8b4', 'balance': '2000000000000000000000000000', 'link': '67B233F21D038D5DAB5634D19738EAA7D92DE62378AC8B2E263C6FEAC1534023', 'signature': 'CE58AEDDCB2E86F30256D398A7E0D68C2ACB19C75F632989A1E9A77EAA405F035CC815BFEF0B2E9D9E93148934A9D8CD0E26228D5C098DDE83E924FC75384303', 'work': '56fb203b7a33151b'}\n",
      "{'action': 'process', 'json_block': 'true', 'sub_type': 'open', 'block': {'type': 'state', 'account': 'nano_14nz3f67i6qjep8hwsyfehu7rweatfwacprh7rh4cqtqwc4s7rah5j1ji8b4', 'previous': '0000000000000000000000000000000000000000000000000000000000000000', 'representative': 'nano_14nz3f67i6qjep8hwsyfehu7rweatfwacprh7rh4cqtqwc4s7rah5j1ji8b4', 'balance': '2000000000000000000000000000', 'link': '67B233F21D038D5DAB5634D19738EAA7D92DE62378AC8B2E263C6FEAC1534023', 'signature': 'CE58AEDDCB2E86F30256D398A7E0D68C2ACB19C75F632989A1E9A77EAA405F035CC815BFEF0B2E9D9E93148934A9D8CD0E26228D5C098DDE83E924FC75384303', 'work': '56fb203b7a33151b'}}\n"
     ]
    },
    {
     "data": {
      "text/plain": [
       "{'hash': '7B10EA9D69435DFC47944472522660C8167D8313516D5E54158864D7D5AFA0B5'}"
      ]
     },
     "execution_count": 26,
     "metadata": {},
     "output_type": "execute_result"
    }
   ],
   "source": [
    "response = client.open_account(account.accounts[0]['account'], account.accounts[0]['private'], account.accounts[0]['public'], block, block_info['amount'], work)\n",
    "response"
   ]
  },
  {
   "cell_type": "code",
   "execution_count": 27,
   "id": "e3879864",
   "metadata": {},
   "outputs": [
    {
     "data": {
      "text/plain": [
       "{'block_account': 'nano_14nz3f67i6qjep8hwsyfehu7rweatfwacprh7rh4cqtqwc4s7rah5j1ji8b4',\n",
       " 'amount': '2000000000000000000000000000',\n",
       " 'balance': '2000000000000000000000000000',\n",
       " 'height': '1',\n",
       " 'local_timestamp': '1722807081',\n",
       " 'successor': '0000000000000000000000000000000000000000000000000000000000000000',\n",
       " 'confirmed': 'true',\n",
       " 'contents': {'type': 'state',\n",
       "  'account': 'nano_14nz3f67i6qjep8hwsyfehu7rweatfwacprh7rh4cqtqwc4s7rah5j1ji8b4',\n",
       "  'previous': '0000000000000000000000000000000000000000000000000000000000000000',\n",
       "  'representative': 'nano_14nz3f67i6qjep8hwsyfehu7rweatfwacprh7rh4cqtqwc4s7rah5j1ji8b4',\n",
       "  'balance': '2000000000000000000000000000',\n",
       "  'link': '67B233F21D038D5DAB5634D19738EAA7D92DE62378AC8B2E263C6FEAC1534023',\n",
       "  'link_as_account': 'nano_1sxk8hs3t1wfdpooef8jkwwgobys7qm48y7ejeq4eh5hxd1o8i35gqyqnt37',\n",
       "  'signature': 'CE58AEDDCB2E86F30256D398A7E0D68C2ACB19C75F632989A1E9A77EAA405F035CC815BFEF0B2E9D9E93148934A9D8CD0E26228D5C098DDE83E924FC75384303',\n",
       "  'work': '56fb203b7a33151b'},\n",
       " 'subtype': 'receive'}"
      ]
     },
     "execution_count": 27,
     "metadata": {},
     "output_type": "execute_result"
    }
   ],
   "source": [
    "client.block_info(\"7B10EA9D69435DFC47944472522660C8167D8313516D5E54158864D7D5AFA0B5\")"
   ]
  },
  {
   "cell_type": "code",
   "execution_count": 28,
   "id": "bde784ed",
   "metadata": {},
   "outputs": [
    {
     "data": {
      "text/plain": [
       "{'blocks': ''}"
      ]
     },
     "execution_count": 28,
     "metadata": {},
     "output_type": "execute_result"
    }
   ],
   "source": [
    "response = client.receivable(account.accounts[0]['account'])\n",
    "response"
   ]
  },
  {
   "cell_type": "code",
   "execution_count": 29,
   "id": "31d02fda",
   "metadata": {},
   "outputs": [
    {
     "data": {
      "text/plain": [
       "{'frontier': '7B10EA9D69435DFC47944472522660C8167D8313516D5E54158864D7D5AFA0B5',\n",
       " 'open_block': '7B10EA9D69435DFC47944472522660C8167D8313516D5E54158864D7D5AFA0B5',\n",
       " 'representative_block': '7B10EA9D69435DFC47944472522660C8167D8313516D5E54158864D7D5AFA0B5',\n",
       " 'balance': '2000000000000000000000000000',\n",
       " 'modified_timestamp': '1722807081',\n",
       " 'block_count': '1',\n",
       " 'account_version': '2',\n",
       " 'confirmation_height': '1',\n",
       " 'confirmation_height_frontier': '7B10EA9D69435DFC47944472522660C8167D8313516D5E54158864D7D5AFA0B5',\n",
       " 'representative': 'nano_14nz3f67i6qjep8hwsyfehu7rweatfwacprh7rh4cqtqwc4s7rah5j1ji8b4'}"
      ]
     },
     "execution_count": 29,
     "metadata": {},
     "output_type": "execute_result"
    }
   ],
   "source": [
    "client.account_info(account.accounts[0]['account'])"
   ]
  },
  {
   "cell_type": "markdown",
   "id": "563f294a",
   "metadata": {},
   "source": [
    "# Make a transfer from one account to another\n",
    "Note: before this, the sender account needs to have received some XNO from a third party. This can be done by asking on the nanolabs #test-net channel on discord for someone to send test nano to your account."
   ]
  },
  {
   "cell_type": "code",
   "execution_count": 7,
   "id": "f0fc70d4",
   "metadata": {},
   "outputs": [
    {
     "data": {
      "text/plain": [
       "[{'private': '8d1826b9fa6259036932cb3e2573a5d73251fc93827836dd92ed8906718b4213',\n",
       "  'public': '0a9f0b485812f1658cfe67cd63f65c7188d378855b0f2e1e255f57e28592e10f',\n",
       "  'account': 'nano_14nz3f67i6qjep8hwsyfehu7rweatfwacprh7rh4cqtqwc4s7rah5j1ji8b4'},\n",
       " {'private': '1380f639572dfbf5f2fcaa1dd9f0deadfe48a9977f4f61f28f28ef4a6d3c84b5',\n",
       "  'public': '68705d0b614c1423eac5dac162482981f3cc1f28cae56f529fc72c185c6818b4',\n",
       "  'account': 'nano_1t5idn7p4m1n6hoedpp3eb64m1hmsihkjkq7fxbbzjse53g8i87n4iju7y76'}]"
      ]
     },
     "execution_count": 7,
     "metadata": {},
     "output_type": "execute_result"
    }
   ],
   "source": [
    "account.accounts"
   ]
  },
  {
   "cell_type": "code",
   "execution_count": 8,
   "id": "c2f03f17",
   "metadata": {},
   "outputs": [
    {
     "data": {
      "text/plain": [
       "{'frontier': '7B10EA9D69435DFC47944472522660C8167D8313516D5E54158864D7D5AFA0B5',\n",
       " 'open_block': '7B10EA9D69435DFC47944472522660C8167D8313516D5E54158864D7D5AFA0B5',\n",
       " 'representative_block': '7B10EA9D69435DFC47944472522660C8167D8313516D5E54158864D7D5AFA0B5',\n",
       " 'balance': '2000000000000000000000000000',\n",
       " 'modified_timestamp': '1722807081',\n",
       " 'block_count': '1',\n",
       " 'account_version': '2',\n",
       " 'confirmation_height': '1',\n",
       " 'confirmation_height_frontier': '7B10EA9D69435DFC47944472522660C8167D8313516D5E54158864D7D5AFA0B5',\n",
       " 'representative': 'nano_14nz3f67i6qjep8hwsyfehu7rweatfwacprh7rh4cqtqwc4s7rah5j1ji8b4'}"
      ]
     },
     "execution_count": 8,
     "metadata": {},
     "output_type": "execute_result"
    }
   ],
   "source": [
    "account_1_info = client.account_info(account.accounts[0]['account'])\n",
    "account_1_info"
   ]
  },
  {
   "cell_type": "markdown",
   "id": "e5161e9c",
   "metadata": {},
   "source": [
    "### The account will not be opened until it has received some XNO"
   ]
  },
  {
   "cell_type": "code",
   "execution_count": 9,
   "id": "1f051e3d",
   "metadata": {},
   "outputs": [
    {
     "data": {
      "text/plain": [
       "{'error': 'Account not found'}"
      ]
     },
     "execution_count": 9,
     "metadata": {},
     "output_type": "execute_result"
    }
   ],
   "source": [
    "client.account_info(account.accounts[1]['account'])"
   ]
  },
  {
   "cell_type": "markdown",
   "id": "bdb845a1",
   "metadata": {},
   "source": [
    "### Send 100 XNO from account 0 to account 1"
   ]
  },
  {
   "cell_type": "code",
   "execution_count": 7,
   "id": "62c744cf",
   "metadata": {},
   "outputs": [
    {
     "data": {
      "text/plain": [
       "'9c6562d7a5949ad0'"
      ]
     },
     "execution_count": 7,
     "metadata": {},
     "output_type": "execute_result"
    }
   ],
   "source": [
    "work = \"9c6562d7a5949ad0\" # only need to compute once\n",
    "if not work:\n",
    "    # {'hash': '7B10EA9D69435DFC47944472522660C8167D8313516D5E54158864D7D5AFA0B5', 'work': '9c6562d7a5949ad0', 'difficulty': 'fffffffa002efae3', 'multiplier': '1.333492654215222'}\n",
    "    work = Wallet.generate_work_rpc(account_1_info[\"frontier\"])\n",
    "\n",
    "work"
   ]
  },
  {
   "cell_type": "code",
   "execution_count": 11,
   "id": "a7d3ee9f",
   "metadata": {},
   "outputs": [
    {
     "name": "stdout",
     "output_type": "stream",
     "text": [
      "68705d0b614c1423eac5dac162482981f3cc1f28cae56f529fc72c185c6818b4\n",
      "{'signature': '4A8856F445AE5AEE424DBD368B2D329D60911C9563DADD3FA8DF6DD88C802B456C72E5C50B1833414FA4CEA2CA12D657BFE145BAEEAADADADEE8622198632D0E', 'block': {'type': 'state', 'account': 'nano_14nz3f67i6qjep8hwsyfehu7rweatfwacprh7rh4cqtqwc4s7rah5j1ji8b4', 'previous': '7B10EA9D69435DFC47944472522660C8167D8313516D5E54158864D7D5AFA0B5', 'representative': 'nano_14nz3f67i6qjep8hwsyfehu7rweatfwacprh7rh4cqtqwc4s7rah5j1ji8b4', 'balance': '1999999999999999999999999900', 'link': '68705D0B614C1423EAC5DAC162482981F3CC1F28CAE56F529FC72C185C6818B4', 'link_as_account': 'nano_1t5idn7p4m1n6hoedpp3eb64m1hmsihkjkq7fxbbzjse53g8i87n4iju7y76', 'signature': '4A8856F445AE5AEE424DBD368B2D329D60911C9563DADD3FA8DF6DD88C802B456C72E5C50B1833414FA4CEA2CA12D657BFE145BAEEAADADADEE8622198632D0E', 'work': '9c6562d7a5949ad0'}}\n",
      "{'type': 'state', 'account': 'nano_14nz3f67i6qjep8hwsyfehu7rweatfwacprh7rh4cqtqwc4s7rah5j1ji8b4', 'previous': '7B10EA9D69435DFC47944472522660C8167D8313516D5E54158864D7D5AFA0B5', 'representative': 'nano_14nz3f67i6qjep8hwsyfehu7rweatfwacprh7rh4cqtqwc4s7rah5j1ji8b4', 'balance': '1999999999999999999999999900', 'link': '68705d0b614c1423eac5dac162482981f3cc1f28cae56f529fc72c185c6818b4', 'signature': '4A8856F445AE5AEE424DBD368B2D329D60911C9563DADD3FA8DF6DD88C802B456C72E5C50B1833414FA4CEA2CA12D657BFE145BAEEAADADADEE8622198632D0E', 'work': '9c6562d7a5949ad0'}\n"
     ]
    },
    {
     "data": {
      "text/plain": [
       "{'hash': 'B704D1487F93B5FD60132A57D6C0D9B2F8244AE3DCBB56D6777D9AD3DA5916EE'}"
      ]
     },
     "execution_count": 11,
     "metadata": {},
     "output_type": "execute_result"
    }
   ],
   "source": [
    "response = client.send(account.accounts[0]['account'], account.accounts[1]['account'], 100, account.accounts[0]['private'], work)\n",
    "response"
   ]
  },
  {
   "cell_type": "markdown",
   "id": "84313244",
   "metadata": {},
   "source": [
    "### Receive the XNO on account 1 as an \"open\" block because it's the first amount for account 1"
   ]
  },
  {
   "cell_type": "code",
   "execution_count": 7,
   "id": "4bab409d",
   "metadata": {},
   "outputs": [
    {
     "data": {
      "text/plain": [
       "{'blocks': {'B704D1487F93B5FD60132A57D6C0D9B2F8244AE3DCBB56D6777D9AD3DA5916EE': {'amount': '100',\n",
       "   'source': 'nano_14nz3f67i6qjep8hwsyfehu7rweatfwacprh7rh4cqtqwc4s7rah5j1ji8b4'}}}"
      ]
     },
     "execution_count": 7,
     "metadata": {},
     "output_type": "execute_result"
    }
   ],
   "source": [
    "response = client.receivable(account.accounts[1]['account'])\n",
    "response"
   ]
  },
  {
   "cell_type": "code",
   "execution_count": 8,
   "id": "5a11f4ac",
   "metadata": {},
   "outputs": [
    {
     "data": {
      "text/plain": [
       "'B704D1487F93B5FD60132A57D6C0D9B2F8244AE3DCBB56D6777D9AD3DA5916EE'"
      ]
     },
     "execution_count": 8,
     "metadata": {},
     "output_type": "execute_result"
    }
   ],
   "source": [
    "block = next(iter(response['blocks'].keys()))\n",
    "block"
   ]
  },
  {
   "cell_type": "code",
   "execution_count": 9,
   "id": "0b9769a5",
   "metadata": {},
   "outputs": [
    {
     "data": {
      "text/plain": [
       "{'block_account': 'nano_14nz3f67i6qjep8hwsyfehu7rweatfwacprh7rh4cqtqwc4s7rah5j1ji8b4',\n",
       " 'amount': '100',\n",
       " 'balance': '1999999999999999999999999900',\n",
       " 'height': '2',\n",
       " 'local_timestamp': '1722812261',\n",
       " 'successor': '0000000000000000000000000000000000000000000000000000000000000000',\n",
       " 'confirmed': 'true',\n",
       " 'contents': {'type': 'state',\n",
       "  'account': 'nano_14nz3f67i6qjep8hwsyfehu7rweatfwacprh7rh4cqtqwc4s7rah5j1ji8b4',\n",
       "  'previous': '7B10EA9D69435DFC47944472522660C8167D8313516D5E54158864D7D5AFA0B5',\n",
       "  'representative': 'nano_14nz3f67i6qjep8hwsyfehu7rweatfwacprh7rh4cqtqwc4s7rah5j1ji8b4',\n",
       "  'balance': '1999999999999999999999999900',\n",
       "  'link': '68705D0B614C1423EAC5DAC162482981F3CC1F28CAE56F529FC72C185C6818B4',\n",
       "  'link_as_account': 'nano_1t5idn7p4m1n6hoedpp3eb64m1hmsihkjkq7fxbbzjse53g8i87n4iju7y76',\n",
       "  'signature': '4A8856F445AE5AEE424DBD368B2D329D60911C9563DADD3FA8DF6DD88C802B456C72E5C50B1833414FA4CEA2CA12D657BFE145BAEEAADADADEE8622198632D0E',\n",
       "  'work': '9c6562d7a5949ad0'},\n",
       " 'subtype': 'send'}"
      ]
     },
     "execution_count": 9,
     "metadata": {},
     "output_type": "execute_result"
    }
   ],
   "source": [
    "block_info = client.block_info(block)\n",
    "block_info"
   ]
  },
  {
   "cell_type": "code",
   "execution_count": 10,
   "id": "8f2410ac",
   "metadata": {},
   "outputs": [
    {
     "data": {
      "text/plain": [
       "'d75fc8652b7ddc0e'"
      ]
     },
     "execution_count": 10,
     "metadata": {},
     "output_type": "execute_result"
    }
   ],
   "source": [
    "work = \"d75fc8652b7ddc0e\"  # only need to compute once\n",
    "if not work:\n",
    "    # {'hash': '68705D0B614C1423EAC5DAC162482981F3CC1F28CAE56F529FC72C185C6818B4', 'work': 'd75fc8652b7ddc0e', 'difficulty': 'fffffffe53719efe', 'multiplier': '4.778836834591351'}\n",
    "    work = Wallet.generate_work_rpc(account.accounts[1]['public'])\n",
    "\n",
    "work"
   ]
  },
  {
   "cell_type": "code",
   "execution_count": 11,
   "id": "b5944426",
   "metadata": {},
   "outputs": [
    {
     "data": {
      "text/plain": [
       "{'hash': '5992CB061FF57A18DB5C48EC94FC3437CAB016063C542ED3B8534F45B3739AED'}"
      ]
     },
     "execution_count": 11,
     "metadata": {},
     "output_type": "execute_result"
    }
   ],
   "source": [
    "response = client.open_account(account.accounts[1]['account'], account.accounts[1]['private'], account.accounts[1]['public'], block, block_info['amount'], work)\n",
    "response"
   ]
  },
  {
   "cell_type": "code",
   "execution_count": 12,
   "id": "52b7a637",
   "metadata": {},
   "outputs": [
    {
     "data": {
      "text/plain": [
       "{'frontier': '5992CB061FF57A18DB5C48EC94FC3437CAB016063C542ED3B8534F45B3739AED',\n",
       " 'open_block': '5992CB061FF57A18DB5C48EC94FC3437CAB016063C542ED3B8534F45B3739AED',\n",
       " 'representative_block': '5992CB061FF57A18DB5C48EC94FC3437CAB016063C542ED3B8534F45B3739AED',\n",
       " 'balance': '100',\n",
       " 'modified_timestamp': '1722813444',\n",
       " 'block_count': '1',\n",
       " 'account_version': '2',\n",
       " 'confirmation_height': '1',\n",
       " 'confirmation_height_frontier': '5992CB061FF57A18DB5C48EC94FC3437CAB016063C542ED3B8534F45B3739AED',\n",
       " 'representative': 'nano_1t5idn7p4m1n6hoedpp3eb64m1hmsihkjkq7fxbbzjse53g8i87n4iju7y76'}"
      ]
     },
     "execution_count": 12,
     "metadata": {},
     "output_type": "execute_result"
    }
   ],
   "source": [
    "client.account_info(account.accounts[1]['account'])"
   ]
  },
  {
   "cell_type": "markdown",
   "id": "cb9cfae1",
   "metadata": {},
   "source": [
    "### Send Another 100 XNO from account 0 to account 1 - this time receive it differently (as a \"receive\" not an \"open\" block)"
   ]
  },
  {
   "cell_type": "code",
   "execution_count": 13,
   "id": "7460310e",
   "metadata": {},
   "outputs": [
    {
     "data": {
      "text/plain": [
       "{'frontier': 'B704D1487F93B5FD60132A57D6C0D9B2F8244AE3DCBB56D6777D9AD3DA5916EE',\n",
       " 'open_block': '7B10EA9D69435DFC47944472522660C8167D8313516D5E54158864D7D5AFA0B5',\n",
       " 'representative_block': 'B704D1487F93B5FD60132A57D6C0D9B2F8244AE3DCBB56D6777D9AD3DA5916EE',\n",
       " 'balance': '1999999999999999999999999900',\n",
       " 'modified_timestamp': '1722812261',\n",
       " 'block_count': '2',\n",
       " 'account_version': '2',\n",
       " 'confirmation_height': '2',\n",
       " 'confirmation_height_frontier': 'B704D1487F93B5FD60132A57D6C0D9B2F8244AE3DCBB56D6777D9AD3DA5916EE',\n",
       " 'representative': 'nano_14nz3f67i6qjep8hwsyfehu7rweatfwacprh7rh4cqtqwc4s7rah5j1ji8b4'}"
      ]
     },
     "execution_count": 13,
     "metadata": {},
     "output_type": "execute_result"
    }
   ],
   "source": [
    "account_1_info = client.account_info(account.accounts[0]['account'])\n",
    "account_1_info"
   ]
  },
  {
   "cell_type": "code",
   "execution_count": 14,
   "id": "05f3d0e6",
   "metadata": {},
   "outputs": [
    {
     "name": "stdout",
     "output_type": "stream",
     "text": [
      "{'hash': 'B704D1487F93B5FD60132A57D6C0D9B2F8244AE3DCBB56D6777D9AD3DA5916EE', 'work': 'c94374b1c76b1988', 'difficulty': 'fffffff99f33d127', 'multiplier': '1.254288965604464'}\n"
     ]
    },
    {
     "data": {
      "text/plain": [
       "'c94374b1c76b1988'"
      ]
     },
     "execution_count": 14,
     "metadata": {},
     "output_type": "execute_result"
    }
   ],
   "source": [
    "work = \"c94374b1c76b1988\" # only need to compute once\n",
    "if not work:\n",
    "    # {'hash': 'B704D1487F93B5FD60132A57D6C0D9B2F8244AE3DCBB56D6777D9AD3DA5916EE', 'work': 'c94374b1c76b1988', 'difficulty': 'fffffff99f33d127', 'multiplier': '1.254288965604464'}\n",
    "    work = Wallet.generate_work_rpc(account_1_info[\"frontier\"])\n",
    "\n",
    "work"
   ]
  },
  {
   "cell_type": "code",
   "execution_count": 15,
   "id": "178cf0e6",
   "metadata": {},
   "outputs": [
    {
     "name": "stdout",
     "output_type": "stream",
     "text": [
      "68705d0b614c1423eac5dac162482981f3cc1f28cae56f529fc72c185c6818b4\n",
      "{'signature': 'ADD8C9A355AA55EE7FFDEF667BDFD7D3FD01A513ABBFF0C96CC8139F40BE52E54BF1F69D6E59AF1ED80B0575BA8D6EB772C38C46F213DFD285441F7D2A0C7106', 'block': {'type': 'state', 'account': 'nano_14nz3f67i6qjep8hwsyfehu7rweatfwacprh7rh4cqtqwc4s7rah5j1ji8b4', 'previous': 'B704D1487F93B5FD60132A57D6C0D9B2F8244AE3DCBB56D6777D9AD3DA5916EE', 'representative': 'nano_14nz3f67i6qjep8hwsyfehu7rweatfwacprh7rh4cqtqwc4s7rah5j1ji8b4', 'balance': '1999999999999999999999999800', 'link': '68705D0B614C1423EAC5DAC162482981F3CC1F28CAE56F529FC72C185C6818B4', 'link_as_account': 'nano_1t5idn7p4m1n6hoedpp3eb64m1hmsihkjkq7fxbbzjse53g8i87n4iju7y76', 'signature': 'ADD8C9A355AA55EE7FFDEF667BDFD7D3FD01A513ABBFF0C96CC8139F40BE52E54BF1F69D6E59AF1ED80B0575BA8D6EB772C38C46F213DFD285441F7D2A0C7106', 'work': 'c94374b1c76b1988'}}\n",
      "{'type': 'state', 'account': 'nano_14nz3f67i6qjep8hwsyfehu7rweatfwacprh7rh4cqtqwc4s7rah5j1ji8b4', 'previous': 'B704D1487F93B5FD60132A57D6C0D9B2F8244AE3DCBB56D6777D9AD3DA5916EE', 'representative': 'nano_14nz3f67i6qjep8hwsyfehu7rweatfwacprh7rh4cqtqwc4s7rah5j1ji8b4', 'balance': '1999999999999999999999999800', 'link': '68705d0b614c1423eac5dac162482981f3cc1f28cae56f529fc72c185c6818b4', 'signature': 'ADD8C9A355AA55EE7FFDEF667BDFD7D3FD01A513ABBFF0C96CC8139F40BE52E54BF1F69D6E59AF1ED80B0575BA8D6EB772C38C46F213DFD285441F7D2A0C7106', 'work': 'c94374b1c76b1988'}\n"
     ]
    },
    {
     "data": {
      "text/plain": [
       "{'hash': '3A15E5BBAFA470358F1C41057D91E79064820B19FC3564E0CF3C2C3A3F80ABC3'}"
      ]
     },
     "execution_count": 15,
     "metadata": {},
     "output_type": "execute_result"
    }
   ],
   "source": [
    "response = client.send(account.accounts[0]['account'], account.accounts[1]['account'], 100, account.accounts[0]['private'], work)\n",
    "response"
   ]
  },
  {
   "cell_type": "code",
   "execution_count": 16,
   "id": "1f95b1dc",
   "metadata": {},
   "outputs": [
    {
     "data": {
      "text/plain": [
       "{'blocks': {'3A15E5BBAFA470358F1C41057D91E79064820B19FC3564E0CF3C2C3A3F80ABC3': {'amount': '100',\n",
       "   'source': 'nano_14nz3f67i6qjep8hwsyfehu7rweatfwacprh7rh4cqtqwc4s7rah5j1ji8b4'}}}"
      ]
     },
     "execution_count": 16,
     "metadata": {},
     "output_type": "execute_result"
    }
   ],
   "source": [
    "response = client.receivable(account.accounts[1]['account'])\n",
    "response"
   ]
  },
  {
   "cell_type": "code",
   "execution_count": null,
   "id": "84a985b9",
   "metadata": {},
   "outputs": [],
   "source": []
  }
 ],
 "metadata": {
  "kernelspec": {
   "display_name": "env3.11",
   "language": "python",
   "name": "python3"
  },
  "language_info": {
   "codemirror_mode": {
    "name": "ipython",
    "version": 3
   },
   "file_extension": ".py",
   "mimetype": "text/x-python",
   "name": "python",
   "nbconvert_exporter": "python",
   "pygments_lexer": "ipython3",
   "version": "3.11.3"
  }
 },
 "nbformat": 4,
 "nbformat_minor": 5
}
