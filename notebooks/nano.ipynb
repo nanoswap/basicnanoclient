{
 "cells": [
  {
   "cell_type": "code",
   "execution_count": 1,
   "id": "96dc9f0f",
   "metadata": {},
   "outputs": [],
   "source": [
    "import subprocess\n",
    "import time\n",
    "import os\n",
    "\n",
    "from basicnanoclient.rpc import RPC\n",
    "from basicnanoclient.wallet import Wallet\n",
    "from basicnanoclient.utils import Utils"
   ]
  },
  {
   "cell_type": "markdown",
   "id": "3c70013a",
   "metadata": {},
   "source": [
    "# Create a Wallet/Account"
   ]
  },
  {
   "cell_type": "code",
   "execution_count": 2,
   "id": "5b9ccb94",
   "metadata": {},
   "outputs": [],
   "source": [
    "# Keep your seed and private key secret for production accounts!\n",
    "if not os.environ.get(\"seed\"):\n",
    "    seed = Utils.generate_seed()\n",
    "    account = Wallet(seed, 1)\n",
    "else:\n",
    "    account = Wallet(os.environ[\"seed\"], 1)"
   ]
  },
  {
   "cell_type": "code",
   "execution_count": 3,
   "id": "ab3dc9a9",
   "metadata": {},
   "outputs": [
    {
     "data": {
      "text/plain": [
       "[{'private': '8d1826b9fa6259036932cb3e2573a5d73251fc93827836dd92ed8906718b4213',\n",
       "  'public': '9e19924ccbb8cbfc1ec6fd613738ce814fd99eae614cf35ef097cf8510cd1fde',\n",
       "  'account': 'nano_39iskb8eqg8dzihefzd38wwex1chu8hcwrceyfhh37yhinaet9yy7hw4s9sp'}]"
      ]
     },
     "execution_count": 3,
     "metadata": {},
     "output_type": "execute_result"
    }
   ],
   "source": [
    "account.accounts"
   ]
  },
  {
   "cell_type": "code",
   "execution_count": 4,
   "id": "078456c0",
   "metadata": {},
   "outputs": [
    {
     "data": {
      "text/plain": [
       "'5b56f8b1650ba23b965b0b5d218742d982fffe6881bdb3792ace38bce8ad9ed7'"
      ]
     },
     "execution_count": 4,
     "metadata": {},
     "output_type": "execute_result"
    }
   ],
   "source": [
    "account.seed"
   ]
  },
  {
   "cell_type": "markdown",
   "id": "5ef1bb79",
   "metadata": {},
   "source": [
    "# Check that the nano node is running\n",
    "\n",
    "See readme or nano currency documentation for instructions on starting the node"
   ]
  },
  {
   "cell_type": "code",
   "execution_count": 5,
   "id": "ddfe7f40",
   "metadata": {},
   "outputs": [
    {
     "name": "stdout",
     "output_type": "stream",
     "text": [
      "{\n",
      "    \"count\": \"31909\",\n",
      "    \"unchecked\": \"0\",\n",
      "    \"cemented\": \"31909\"\n",
      "}\n",
      "\n"
     ]
    },
    {
     "name": "stderr",
     "output_type": "stream",
     "text": [
      "  % Total    % Received % Xferd  Average Speed   Time    Time     Time  Current\n",
      "                                 Dload  Upload   Total   Spent    Left  Speed\n",
      "100   101  100    72  100    29  11255   4533 --:--:-- --:--:-- --:--:-- 16833\n"
     ]
    }
   ],
   "source": [
    "command = \"\"\"\n",
    "curl -d '{\n",
    "  \"action\": \"block_count\"\n",
    "}' http://127.0.0.1:17076\n",
    "\"\"\"\n",
    "\n",
    "output = subprocess.check_output(command, shell=True)\n",
    "print(output.decode(\"utf-8\"))"
   ]
  },
  {
   "cell_type": "code",
   "execution_count": 6,
   "id": "8afb4716",
   "metadata": {},
   "outputs": [],
   "source": [
    "client = RPC(\"http://127.0.0.1:17076\")"
   ]
  },
  {
   "cell_type": "markdown",
   "id": "00278eab",
   "metadata": {},
   "source": [
    "# Example RPC calls using the account we created"
   ]
  },
  {
   "cell_type": "code",
   "execution_count": 7,
   "id": "55901987",
   "metadata": {},
   "outputs": [
    {
     "data": {
      "text/plain": [
       "{'blocks': {'4BD87F59EB8CD3AA4661B6AEE3381CD107E00D31120214C226C486641391361A': {'amount': '2000000000000000000000000000',\n",
       "   'source': 'nano_3n6cw5kaxx1egkwf7wzdkayz8howhqukw8cjeqnm6wf6h5318c6z6eicdr3k'}}}"
      ]
     },
     "execution_count": 7,
     "metadata": {},
     "output_type": "execute_result"
    }
   ],
   "source": [
    "response = client.receivable(account.accounts[0]['account'])\n",
    "response"
   ]
  },
  {
   "cell_type": "code",
   "execution_count": 8,
   "id": "78cda950",
   "metadata": {},
   "outputs": [
    {
     "data": {
      "text/plain": [
       "'4BD87F59EB8CD3AA4661B6AEE3381CD107E00D31120214C226C486641391361A'"
      ]
     },
     "execution_count": 8,
     "metadata": {},
     "output_type": "execute_result"
    }
   ],
   "source": [
    "block = next(iter(response['blocks'].keys()))\n",
    "block"
   ]
  },
  {
   "cell_type": "code",
   "execution_count": 9,
   "id": "9e654605",
   "metadata": {},
   "outputs": [
    {
     "data": {
      "text/plain": [
       "{'block_account': 'nano_3n6cw5kaxx1egkwf7wzdkayz8howhqukw8cjeqnm6wf6h5318c6z6eicdr3k',\n",
       " 'amount': '2000000000000000000000000000',\n",
       " 'balance': '497900000000000000000000000000',\n",
       " 'height': '3',\n",
       " 'local_timestamp': '1720556657',\n",
       " 'successor': '0000000000000000000000000000000000000000000000000000000000000000',\n",
       " 'confirmed': 'true',\n",
       " 'contents': {'type': 'state',\n",
       "  'account': 'nano_3n6cw5kaxx1egkwf7wzdkayz8howhqukw8cjeqnm6wf6h5318c6z6eicdr3k',\n",
       "  'previous': 'A6C5BF6879C2FC6BFC86EBCF9BC8D2C63BCB8B6DF3C5E4F4058E11BDCE70F834',\n",
       "  'representative': 'nano_1jg8zygjg3pp5w644emqcbmjqpnzmubfni3kfe1s8pooeuxsw49fdq1mco9j',\n",
       "  'balance': '497900000000000000000000000000',\n",
       "  'link': '9E19924CCBB8CBFC1EC6FD613738CE814FD99EAE614CF35EF097CF8510CD1FDE',\n",
       "  'link_as_account': 'nano_39iskb8eqg8dzihefzd38wwex1chu8hcwrceyfhh37yhinaet9yy7hw4s9sp',\n",
       "  'signature': '029F02C8824A6D05D3352EC6489AC1631269D226723BB52B62E0F3621CE83D4059BD13783C222076E653666AD3F33890AED2B5A0B38019CFBD85322C3137AC02',\n",
       "  'work': '68f915be3d2d8e99'},\n",
       " 'subtype': 'send'}"
      ]
     },
     "execution_count": 9,
     "metadata": {},
     "output_type": "execute_result"
    }
   ],
   "source": [
    "block_info = client.block_info(block)\n",
    "block_info"
   ]
  },
  {
   "cell_type": "code",
   "execution_count": 11,
   "id": "479b8055",
   "metadata": {},
   "outputs": [
    {
     "data": {
      "text/plain": [
       "{'error': 'Block work is less than threshold'}"
      ]
     },
     "execution_count": 11,
     "metadata": {},
     "output_type": "execute_result"
    }
   ],
   "source": [
    "response = client.receive_first(block, account.accounts[0]['private'])\n",
    "response"
   ]
  },
  {
   "cell_type": "code",
   "execution_count": 17,
   "id": "e03ddaa7",
   "metadata": {},
   "outputs": [
    {
     "data": {
      "text/plain": [
       "{'error': 'Account not found'}"
      ]
     },
     "execution_count": 17,
     "metadata": {},
     "output_type": "execute_result"
    }
   ],
   "source": [
    "client.account_info(account.accounts[0]['account'])"
   ]
  },
  {
   "cell_type": "code",
   "execution_count": 9,
   "id": "624189d0",
   "metadata": {},
   "outputs": [
    {
     "data": {
      "text/plain": [
       "{'blocks': {'4BD87F59EB8CD3AA4661B6AEE3381CD107E00D31120214C226C486641391361A': {'amount': '2000000000000000000000000000',\n",
       "   'source': 'nano_3n6cw5kaxx1egkwf7wzdkayz8howhqukw8cjeqnm6wf6h5318c6z6eicdr3k'}}}"
      ]
     },
     "execution_count": 9,
     "metadata": {},
     "output_type": "execute_result"
    }
   ],
   "source": [
    "client.receivable(account.accounts[0]['account'])"
   ]
  },
  {
   "cell_type": "code",
   "execution_count": null,
   "id": "4c4d9a93",
   "metadata": {},
   "outputs": [],
   "source": [
    "client.receive()"
   ]
  },
  {
   "cell_type": "code",
   "execution_count": 18,
   "id": "e3879864",
   "metadata": {},
   "outputs": [
    {
     "data": {
      "text/plain": [
       "{'block_account': 'nano_3n6cw5kaxx1egkwf7wzdkayz8howhqukw8cjeqnm6wf6h5318c6z6eicdr3k',\n",
       " 'amount': '2000000000000000000000000000',\n",
       " 'balance': '497900000000000000000000000000',\n",
       " 'height': '3',\n",
       " 'local_timestamp': '1720556657',\n",
       " 'successor': '0000000000000000000000000000000000000000000000000000000000000000',\n",
       " 'confirmed': 'true',\n",
       " 'contents': {'type': 'state',\n",
       "  'account': 'nano_3n6cw5kaxx1egkwf7wzdkayz8howhqukw8cjeqnm6wf6h5318c6z6eicdr3k',\n",
       "  'previous': 'A6C5BF6879C2FC6BFC86EBCF9BC8D2C63BCB8B6DF3C5E4F4058E11BDCE70F834',\n",
       "  'representative': 'nano_1jg8zygjg3pp5w644emqcbmjqpnzmubfni3kfe1s8pooeuxsw49fdq1mco9j',\n",
       "  'balance': '497900000000000000000000000000',\n",
       "  'link': '9E19924CCBB8CBFC1EC6FD613738CE814FD99EAE614CF35EF097CF8510CD1FDE',\n",
       "  'link_as_account': 'nano_39iskb8eqg8dzihefzd38wwex1chu8hcwrceyfhh37yhinaet9yy7hw4s9sp',\n",
       "  'signature': '029F02C8824A6D05D3352EC6489AC1631269D226723BB52B62E0F3621CE83D4059BD13783C222076E653666AD3F33890AED2B5A0B38019CFBD85322C3137AC02',\n",
       "  'work': '68f915be3d2d8e99'},\n",
       " 'subtype': 'send'}"
      ]
     },
     "execution_count": 18,
     "metadata": {},
     "output_type": "execute_result"
    }
   ],
   "source": [
    "client.block_info(\"4BD87F59EB8CD3AA4661B6AEE3381CD107E00D31120214C226C486641391361A\")"
   ]
  },
  {
   "cell_type": "code",
   "execution_count": 28,
   "id": "bde784ed",
   "metadata": {},
   "outputs": [
    {
     "data": {
      "text/plain": [
       "{'error': 'Account not found'}"
      ]
     },
     "execution_count": 28,
     "metadata": {},
     "output_type": "execute_result"
    }
   ],
   "source": [
    "client.account_info(\"nano_39iskb8eqg8dzihefzd38wwex1chu8hcwrceyfhh37yhinaet9yy7hw4s9sp\")"
   ]
  },
  {
   "cell_type": "code",
   "execution_count": 20,
   "id": "31d02fda",
   "metadata": {},
   "outputs": [
    {
     "data": {
      "text/plain": [
       "{'error': 'Account not found'}"
      ]
     },
     "execution_count": 20,
     "metadata": {},
     "output_type": "execute_result"
    }
   ],
   "source": [
    "client.account_info(account.accounts[0]['account'])"
   ]
  },
  {
   "cell_type": "code",
   "execution_count": 21,
   "id": "bcd1bf95",
   "metadata": {},
   "outputs": [
    {
     "data": {
      "text/plain": [
       "{'frontier': '888B8810F3BBE42FE4022D423A983B4111D6EF33B4134415EEC23AACA4B83D65',\n",
       " 'open_block': 'D5ACF094461D23640F5B55E10BCB7B69E83B99BD1870BB50314F977A3E5CF117',\n",
       " 'representative_block': '888B8810F3BBE42FE4022D423A983B4111D6EF33B4134415EEC23AACA4B83D65',\n",
       " 'balance': '997489900000000000000000000000000',\n",
       " 'modified_timestamp': '1720021441',\n",
       " 'block_count': '6',\n",
       " 'account_version': '2',\n",
       " 'confirmation_height': '6',\n",
       " 'confirmation_height_frontier': '888B8810F3BBE42FE4022D423A983B4111D6EF33B4134415EEC23AACA4B83D65',\n",
       " 'representative': 'nano_1jg8zygjg3pp5w644emqcbmjqpnzmubfni3kfe1s8pooeuxsw49fdq1mco9j'}"
      ]
     },
     "execution_count": 21,
     "metadata": {},
     "output_type": "execute_result"
    }
   ],
   "source": [
    "client.account_info(\"nano_33tpxawtqtmf49anb6qdgiiz9eygk3woz5wespjp3pjkc899cusx7pi65g6g\")"
   ]
  },
  {
   "cell_type": "code",
   "execution_count": 22,
   "id": "4aa77a0d",
   "metadata": {},
   "outputs": [
    {
     "data": {
      "text/plain": [
       "{'accounts': {'nano_33tpxawtqtmf49anb6qdgiiz9eygk3woz5wespjp3pjkc899cusx7pi65g6g': {'frontier': '888B8810F3BBE42FE4022D423A983B4111D6EF33B4134415EEC23AACA4B83D65',\n",
       "   'open_block': 'D5ACF094461D23640F5B55E10BCB7B69E83B99BD1870BB50314F977A3E5CF117',\n",
       "   'representative_block': '888B8810F3BBE42FE4022D423A983B4111D6EF33B4134415EEC23AACA4B83D65',\n",
       "   'balance': '997489900000000000000000000000000',\n",
       "   'modified_timestamp': '1720021441',\n",
       "   'block_count': '6'}}}"
      ]
     },
     "execution_count": 22,
     "metadata": {},
     "output_type": "execute_result"
    }
   ],
   "source": [
    "client.ledger(\"nano_33tpxawtqtmf49anb6qdgiiz9eygk3woz5wespjp3pjkc899cusx7pi65g6g\", 1)"
   ]
  },
  {
   "cell_type": "code",
   "execution_count": 3,
   "id": "255008dc",
   "metadata": {},
   "outputs": [
    {
     "data": {
      "text/plain": [
       "{'block_account': 'nano_33tpxawtqtmf49anb6qdgiiz9eygk3woz5wespjp3pjkc899cusx7pi65g6g',\n",
       " 'amount': '100000000000000000000000000',\n",
       " 'balance': '997489900000000000000000000000000',\n",
       " 'height': '6',\n",
       " 'local_timestamp': '1720021441',\n",
       " 'successor': '0000000000000000000000000000000000000000000000000000000000000000',\n",
       " 'confirmed': 'true',\n",
       " 'contents': {'type': 'state',\n",
       "  'account': 'nano_33tpxawtqtmf49anb6qdgiiz9eygk3woz5wespjp3pjkc899cusx7pi65g6g',\n",
       "  'previous': '1DC2AA15CAD1CB4A0237B5AF3948A522923247262EA94CB2DA6C3803A525C2B3',\n",
       "  'representative': 'nano_1jg8zygjg3pp5w644emqcbmjqpnzmubfni3kfe1s8pooeuxsw49fdq1mco9j',\n",
       "  'balance': '997489900000000000000000000000000',\n",
       "  'link': '0E12F1F5C95BD5FF7857D00F7AC4F0BF7A4BD6EB1A0B029FC644C59C52EED27A',\n",
       "  'link_as_account': 'nano_15iky9twkpyozxw7hn1hhd4h3hutbhdgp8id1chwej87mjbgxnmtece1j66p',\n",
       "  'signature': '00B2BDD54CF7AA617E163EBDD12BE0801431D2E93E69965DF7D80B0219522B2883F1B30E41BEC69E2971247FBDCE0B3F31DFD1736628D09C4E17FA99FB9D900D',\n",
       "  'work': '8cc98d3a31ca3b35'},\n",
       " 'subtype': 'send'}"
      ]
     },
     "execution_count": 3,
     "metadata": {},
     "output_type": "execute_result"
    }
   ],
   "source": [
    "client.block_info(\"888B8810F3BBE42FE4022D423A983B4111D6EF33B4134415EEC23AACA4B83D65\")"
   ]
  },
  {
   "cell_type": "markdown",
   "id": "563f294a",
   "metadata": {},
   "source": [
    "# Make a transfer from account_1 to account_2\n",
    "Note: before this, the sender account needs to have received some XNO from a third party. This can be done by asking on the nanolabs #test-net channel on discord for someone to send test nano to your account."
   ]
  },
  {
   "cell_type": "markdown",
   "id": "fd7fa300",
   "metadata": {},
   "source": [
    "### Step 1: call account_info for the sender account"
   ]
  },
  {
   "cell_type": "code",
   "execution_count": 12,
   "id": "f049716d",
   "metadata": {},
   "outputs": [
    {
     "data": {
      "text/plain": [
       "{'frontier': 'B44E13E61076C26EE20F2F4A51A134BB55EC81256E0D9E3CB2BB27576B20EE15',\n",
       " 'open_block': 'B44E13E61076C26EE20F2F4A51A134BB55EC81256E0D9E3CB2BB27576B20EE15',\n",
       " 'representative_block': 'B44E13E61076C26EE20F2F4A51A134BB55EC81256E0D9E3CB2BB27576B20EE15',\n",
       " 'balance': '500000000000000000000000000000',\n",
       " 'modified_timestamp': '1677514456',\n",
       " 'block_count': '1',\n",
       " 'account_version': '2',\n",
       " 'confirmation_height': '1',\n",
       " 'confirmation_height_frontier': 'B44E13E61076C26EE20F2F4A51A134BB55EC81256E0D9E3CB2BB27576B20EE15',\n",
       " 'representative': 'nano_1jg8zygjg3pp5w644emqcbmjqpnzmubfni3kfe1s8pooeuxsw49fdq1mco9j'}"
      ]
     },
     "execution_count": 12,
     "metadata": {},
     "output_type": "execute_result"
    }
   ],
   "source": [
    "account_1_info = account_info(account_1.account)\n",
    "account_1_info"
   ]
  },
  {
   "cell_type": "code",
   "execution_count": 15,
   "id": "5326499c",
   "metadata": {},
   "outputs": [
    {
     "data": {
      "text/plain": [
       "499999999999999999999999999999"
      ]
     },
     "execution_count": 15,
     "metadata": {},
     "output_type": "execute_result"
    }
   ],
   "source": [
    "# Subtract to send, add to receive. Units are in \"raw\" so no decimals.\n",
    "# It's crucial to get the account balance and the fronteir in a single call\n",
    "# to prevent a race condition.\n",
    "new_balance = int(account_1_info['balance']) - 1\n",
    "new_balance"
   ]
  },
  {
   "cell_type": "code",
   "execution_count": 34,
   "id": "9ed21356",
   "metadata": {},
   "outputs": [
    {
     "data": {
      "text/plain": [
       "{'blocks': {'1DC2AA15CAD1CB4A0237B5AF3948A522923247262EA94CB2DA6C3803A525C2B3': {'amount': '10000000000000000000000000000',\n",
       "   'source': 'nano_33tpxawtqtmf49anb6qdgiiz9eygk3woz5wespjp3pjkc899cusx7pi65g6g'}}}"
      ]
     },
     "execution_count": 34,
     "metadata": {},
     "output_type": "execute_result"
    }
   ],
   "source": [
    "# get the last block on the receiving account\n",
    "# account_2_info = account_info(account_2.account)\n",
    "# account_2_info\n",
    "response = receiveable(account_2.account)\n",
    "response"
   ]
  },
  {
   "cell_type": "code",
   "execution_count": 36,
   "id": "4f6d0fc4",
   "metadata": {},
   "outputs": [],
   "source": [
    "account_2_account = accounts_create(account_2.wallet)\n",
    "account_2_account = account_2_account['accounts'][0]"
   ]
  },
  {
   "cell_type": "code",
   "execution_count": null,
   "id": "1907052f",
   "metadata": {},
   "outputs": [],
   "source": []
  },
  {
   "cell_type": "code",
   "execution_count": 35,
   "id": "836efeb5",
   "metadata": {},
   "outputs": [
    {
     "data": {
      "text/plain": [
       "{'error': 'Unreceivable'}"
      ]
     },
     "execution_count": 35,
     "metadata": {},
     "output_type": "execute_result"
    }
   ],
   "source": [
    "# receive(account_2.wallet, account_2_account['accounts'][0], list(response['blocks'].keys())[0])\n",
    "\n",
    "# {'error': 'Unreceivable'}\n",
    "account_2.account\n",
    "receive(account_2.wallet, account_2.account, list(response['blocks'].keys())[0])"
   ]
  },
  {
   "cell_type": "code",
   "execution_count": 17,
   "id": "f7ecd454",
   "metadata": {},
   "outputs": [
    {
     "ename": "KeyboardInterrupt",
     "evalue": "",
     "output_type": "error",
     "traceback": [
      "\u001b[0;31m---------------------------------------------------------------------------\u001b[0m",
      "\u001b[0;31mKeyboardInterrupt\u001b[0m                         Traceback (most recent call last)",
      "Cell \u001b[0;32mIn[17], line 1\u001b[0m\n\u001b[0;32m----> 1\u001b[0m \u001b[43mblock_create\u001b[49m\u001b[43m(\u001b[49m\n\u001b[1;32m      2\u001b[0m \u001b[43m    \u001b[49m\u001b[43maccount_1_info\u001b[49m\u001b[43m[\u001b[49m\u001b[38;5;124;43m'\u001b[39;49m\u001b[38;5;124;43mfrontier\u001b[39;49m\u001b[38;5;124;43m'\u001b[39;49m\u001b[43m]\u001b[49m\u001b[43m,\u001b[49m\n\u001b[1;32m      3\u001b[0m \u001b[43m    \u001b[49m\u001b[43maccount_1\u001b[49m\u001b[38;5;241;43m.\u001b[39;49m\u001b[43maccount\u001b[49m\u001b[43m,\u001b[49m\n\u001b[1;32m      4\u001b[0m \u001b[43m    \u001b[49m\u001b[43maccount_1_info\u001b[49m\u001b[43m[\u001b[49m\u001b[38;5;124;43m'\u001b[39;49m\u001b[38;5;124;43mrepresentative\u001b[39;49m\u001b[38;5;124;43m'\u001b[39;49m\u001b[43m]\u001b[49m\u001b[43m,\u001b[49m\n\u001b[1;32m      5\u001b[0m \u001b[43m    \u001b[49m\u001b[43mnew_balance\u001b[49m\u001b[43m,\u001b[49m\n\u001b[1;32m      6\u001b[0m \u001b[43m    \u001b[49m\u001b[43maccount_2\u001b[49m\u001b[38;5;241;43m.\u001b[39;49m\u001b[43maccount\u001b[49m\u001b[43m,\u001b[49m\n\u001b[1;32m      7\u001b[0m \u001b[43m    \u001b[49m\u001b[43maccount_1\u001b[49m\u001b[38;5;241;43m.\u001b[39;49m\u001b[43mkey\u001b[49m\n\u001b[1;32m      8\u001b[0m \u001b[43m)\u001b[49m\n",
      "Cell \u001b[0;32mIn[3], line 80\u001b[0m, in \u001b[0;36mblock_create\u001b[0;34m(previous, account, representative, balance, link, key)\u001b[0m\n\u001b[1;32m     79\u001b[0m \u001b[38;5;28;01mdef\u001b[39;00m \u001b[38;5;21mblock_create\u001b[39m(previous, account, representative, balance, link, key):\n\u001b[0;32m---> 80\u001b[0m     \u001b[38;5;28;01mreturn\u001b[39;00m \u001b[43msession\u001b[49m\u001b[38;5;241;43m.\u001b[39;49m\u001b[43mpost\u001b[49m\u001b[43m(\u001b[49m\u001b[43mrpc_network\u001b[49m\u001b[43m,\u001b[49m\u001b[43m \u001b[49m\u001b[43mjson\u001b[49m\u001b[38;5;241;43m=\u001b[39;49m\u001b[43m{\u001b[49m\n\u001b[1;32m     81\u001b[0m \u001b[43m      \u001b[49m\u001b[38;5;124;43m\"\u001b[39;49m\u001b[38;5;124;43maction\u001b[39;49m\u001b[38;5;124;43m\"\u001b[39;49m\u001b[43m:\u001b[49m\u001b[43m \u001b[49m\u001b[38;5;124;43m\"\u001b[39;49m\u001b[38;5;124;43mblock_create\u001b[39;49m\u001b[38;5;124;43m\"\u001b[39;49m\u001b[43m,\u001b[49m\n\u001b[1;32m     82\u001b[0m \u001b[43m      \u001b[49m\u001b[38;5;124;43m\"\u001b[39;49m\u001b[38;5;124;43mjson_block\u001b[39;49m\u001b[38;5;124;43m\"\u001b[39;49m\u001b[43m:\u001b[49m\u001b[43m \u001b[49m\u001b[38;5;124;43m\"\u001b[39;49m\u001b[38;5;124;43mtrue\u001b[39;49m\u001b[38;5;124;43m\"\u001b[39;49m\u001b[43m,\u001b[49m\n\u001b[1;32m     83\u001b[0m \u001b[43m      \u001b[49m\u001b[38;5;124;43m\"\u001b[39;49m\u001b[38;5;124;43mtype\u001b[39;49m\u001b[38;5;124;43m\"\u001b[39;49m\u001b[43m:\u001b[49m\u001b[43m \u001b[49m\u001b[38;5;124;43m\"\u001b[39;49m\u001b[38;5;124;43mstate\u001b[39;49m\u001b[38;5;124;43m\"\u001b[39;49m\u001b[43m,\u001b[49m\n\u001b[1;32m     84\u001b[0m \u001b[43m      \u001b[49m\u001b[38;5;124;43m\"\u001b[39;49m\u001b[38;5;124;43mprevious\u001b[39;49m\u001b[38;5;124;43m\"\u001b[39;49m\u001b[43m:\u001b[49m\u001b[43m \u001b[49m\u001b[43mprevious\u001b[49m\u001b[43m,\u001b[49m\u001b[43m \u001b[49m\u001b[38;5;66;43;03m#\"92BA74A7D6DC7557F3EDA95ADC6341D51AC777A0A6FF0688A5C492AB2B2CB40D\",\u001b[39;49;00m\n\u001b[1;32m     85\u001b[0m \u001b[43m      \u001b[49m\u001b[38;5;124;43m\"\u001b[39;49m\u001b[38;5;124;43maccount\u001b[39;49m\u001b[38;5;124;43m\"\u001b[39;49m\u001b[43m:\u001b[49m\u001b[43m \u001b[49m\u001b[43maccount\u001b[49m\u001b[43m,\u001b[49m\u001b[43m \u001b[49m\u001b[38;5;66;43;03m#\"nano_1e5aqegc1jb7qe964u4adzmcezyo6o146zb8hm6dft8tkp79za3sxwjym5rx\",\u001b[39;49;00m\n\u001b[1;32m     86\u001b[0m \u001b[43m      \u001b[49m\u001b[38;5;124;43m\"\u001b[39;49m\u001b[38;5;124;43mrepresentative\u001b[39;49m\u001b[38;5;124;43m\"\u001b[39;49m\u001b[43m:\u001b[49m\u001b[43m \u001b[49m\u001b[43mrepresentative\u001b[49m\u001b[43m,\u001b[49m\u001b[43m \u001b[49m\u001b[38;5;66;43;03m#\"nano_1stofnrxuz3cai7ze75o174bpm7scwj9jn3nxsn8ntzg784jf1gzn1jjdkou\",\u001b[39;49;00m\n\u001b[1;32m     87\u001b[0m \u001b[43m      \u001b[49m\u001b[38;5;124;43m\"\u001b[39;49m\u001b[38;5;124;43mbalance\u001b[39;49m\u001b[38;5;124;43m\"\u001b[39;49m\u001b[43m:\u001b[49m\u001b[43m \u001b[49m\u001b[43mbalance\u001b[49m\u001b[43m,\u001b[49m\u001b[43m \u001b[49m\u001b[38;5;66;43;03m#\"3618869000000000000000000000000\",\u001b[39;49;00m\n\u001b[1;32m     88\u001b[0m \u001b[43m      \u001b[49m\u001b[38;5;124;43m\"\u001b[39;49m\u001b[38;5;124;43mlink\u001b[39;49m\u001b[38;5;124;43m\"\u001b[39;49m\u001b[43m:\u001b[49m\u001b[43m \u001b[49m\u001b[43mlink\u001b[49m\u001b[43m,\u001b[49m\u001b[43m \u001b[49m\u001b[38;5;66;43;03m#\"nano_1q3hqecaw15cjt7thbtxu3pbzr1eihtzzpzxguoc37bj1wc5ffoh7w74gi6p\",\u001b[39;49;00m\n\u001b[1;32m     89\u001b[0m \u001b[43m      \u001b[49m\u001b[38;5;124;43m\"\u001b[39;49m\u001b[38;5;124;43mkey\u001b[39;49m\u001b[38;5;124;43m\"\u001b[39;49m\u001b[43m:\u001b[49m\u001b[43m \u001b[49m\u001b[43mkey\u001b[49m\u001b[43m \u001b[49m\u001b[38;5;66;43;03m#\"781186FB9EF17DB6E3D1056550D9FAE5D5BBADA6A6BC370E4CBB938B1DC71DA3\"\u001b[39;49;00m\n\u001b[1;32m     90\u001b[0m \u001b[43m    \u001b[49m\u001b[43m}\u001b[49m\u001b[43m)\u001b[49m\u001b[38;5;241m.\u001b[39mjson\n",
      "File \u001b[0;32m/opt/homebrew/Cellar/jupyterlab/3.6.1/libexec/lib/python3.11/site-packages/requests/sessions.py:635\u001b[0m, in \u001b[0;36mSession.post\u001b[0;34m(self, url, data, json, **kwargs)\u001b[0m\n\u001b[1;32m    624\u001b[0m \u001b[38;5;28;01mdef\u001b[39;00m \u001b[38;5;21mpost\u001b[39m(\u001b[38;5;28mself\u001b[39m, url, data\u001b[38;5;241m=\u001b[39m\u001b[38;5;28;01mNone\u001b[39;00m, json\u001b[38;5;241m=\u001b[39m\u001b[38;5;28;01mNone\u001b[39;00m, \u001b[38;5;241m*\u001b[39m\u001b[38;5;241m*\u001b[39mkwargs):\n\u001b[1;32m    625\u001b[0m \u001b[38;5;250m    \u001b[39m\u001b[38;5;124mr\u001b[39m\u001b[38;5;124;03m\"\"\"Sends a POST request. Returns :class:`Response` object.\u001b[39;00m\n\u001b[1;32m    626\u001b[0m \n\u001b[1;32m    627\u001b[0m \u001b[38;5;124;03m    :param url: URL for the new :class:`Request` object.\u001b[39;00m\n\u001b[0;32m   (...)\u001b[0m\n\u001b[1;32m    632\u001b[0m \u001b[38;5;124;03m    :rtype: requests.Response\u001b[39;00m\n\u001b[1;32m    633\u001b[0m \u001b[38;5;124;03m    \"\"\"\u001b[39;00m\n\u001b[0;32m--> 635\u001b[0m     \u001b[38;5;28;01mreturn\u001b[39;00m \u001b[38;5;28;43mself\u001b[39;49m\u001b[38;5;241;43m.\u001b[39;49m\u001b[43mrequest\u001b[49m\u001b[43m(\u001b[49m\u001b[38;5;124;43m\"\u001b[39;49m\u001b[38;5;124;43mPOST\u001b[39;49m\u001b[38;5;124;43m\"\u001b[39;49m\u001b[43m,\u001b[49m\u001b[43m \u001b[49m\u001b[43murl\u001b[49m\u001b[43m,\u001b[49m\u001b[43m \u001b[49m\u001b[43mdata\u001b[49m\u001b[38;5;241;43m=\u001b[39;49m\u001b[43mdata\u001b[49m\u001b[43m,\u001b[49m\u001b[43m \u001b[49m\u001b[43mjson\u001b[49m\u001b[38;5;241;43m=\u001b[39;49m\u001b[43mjson\u001b[49m\u001b[43m,\u001b[49m\u001b[43m \u001b[49m\u001b[38;5;241;43m*\u001b[39;49m\u001b[38;5;241;43m*\u001b[39;49m\u001b[43mkwargs\u001b[49m\u001b[43m)\u001b[49m\n",
      "File \u001b[0;32m/opt/homebrew/Cellar/jupyterlab/3.6.1/libexec/lib/python3.11/site-packages/requests/sessions.py:587\u001b[0m, in \u001b[0;36mSession.request\u001b[0;34m(self, method, url, params, data, headers, cookies, files, auth, timeout, allow_redirects, proxies, hooks, stream, verify, cert, json)\u001b[0m\n\u001b[1;32m    582\u001b[0m send_kwargs \u001b[38;5;241m=\u001b[39m {\n\u001b[1;32m    583\u001b[0m     \u001b[38;5;124m\"\u001b[39m\u001b[38;5;124mtimeout\u001b[39m\u001b[38;5;124m\"\u001b[39m: timeout,\n\u001b[1;32m    584\u001b[0m     \u001b[38;5;124m\"\u001b[39m\u001b[38;5;124mallow_redirects\u001b[39m\u001b[38;5;124m\"\u001b[39m: allow_redirects,\n\u001b[1;32m    585\u001b[0m }\n\u001b[1;32m    586\u001b[0m send_kwargs\u001b[38;5;241m.\u001b[39mupdate(settings)\n\u001b[0;32m--> 587\u001b[0m resp \u001b[38;5;241m=\u001b[39m \u001b[38;5;28;43mself\u001b[39;49m\u001b[38;5;241;43m.\u001b[39;49m\u001b[43msend\u001b[49m\u001b[43m(\u001b[49m\u001b[43mprep\u001b[49m\u001b[43m,\u001b[49m\u001b[43m \u001b[49m\u001b[38;5;241;43m*\u001b[39;49m\u001b[38;5;241;43m*\u001b[39;49m\u001b[43msend_kwargs\u001b[49m\u001b[43m)\u001b[49m\n\u001b[1;32m    589\u001b[0m \u001b[38;5;28;01mreturn\u001b[39;00m resp\n",
      "File \u001b[0;32m/opt/homebrew/Cellar/jupyterlab/3.6.1/libexec/lib/python3.11/site-packages/requests/sessions.py:701\u001b[0m, in \u001b[0;36mSession.send\u001b[0;34m(self, request, **kwargs)\u001b[0m\n\u001b[1;32m    698\u001b[0m start \u001b[38;5;241m=\u001b[39m preferred_clock()\n\u001b[1;32m    700\u001b[0m \u001b[38;5;66;03m# Send the request\u001b[39;00m\n\u001b[0;32m--> 701\u001b[0m r \u001b[38;5;241m=\u001b[39m \u001b[43madapter\u001b[49m\u001b[38;5;241;43m.\u001b[39;49m\u001b[43msend\u001b[49m\u001b[43m(\u001b[49m\u001b[43mrequest\u001b[49m\u001b[43m,\u001b[49m\u001b[43m \u001b[49m\u001b[38;5;241;43m*\u001b[39;49m\u001b[38;5;241;43m*\u001b[39;49m\u001b[43mkwargs\u001b[49m\u001b[43m)\u001b[49m\n\u001b[1;32m    703\u001b[0m \u001b[38;5;66;03m# Total elapsed time of the request (approximately)\u001b[39;00m\n\u001b[1;32m    704\u001b[0m elapsed \u001b[38;5;241m=\u001b[39m preferred_clock() \u001b[38;5;241m-\u001b[39m start\n",
      "File \u001b[0;32m/opt/homebrew/Cellar/jupyterlab/3.6.1/libexec/lib/python3.11/site-packages/requests/adapters.py:489\u001b[0m, in \u001b[0;36mHTTPAdapter.send\u001b[0;34m(self, request, stream, timeout, verify, cert, proxies)\u001b[0m\n\u001b[1;32m    487\u001b[0m \u001b[38;5;28;01mtry\u001b[39;00m:\n\u001b[1;32m    488\u001b[0m     \u001b[38;5;28;01mif\u001b[39;00m \u001b[38;5;129;01mnot\u001b[39;00m chunked:\n\u001b[0;32m--> 489\u001b[0m         resp \u001b[38;5;241m=\u001b[39m \u001b[43mconn\u001b[49m\u001b[38;5;241;43m.\u001b[39;49m\u001b[43murlopen\u001b[49m\u001b[43m(\u001b[49m\n\u001b[1;32m    490\u001b[0m \u001b[43m            \u001b[49m\u001b[43mmethod\u001b[49m\u001b[38;5;241;43m=\u001b[39;49m\u001b[43mrequest\u001b[49m\u001b[38;5;241;43m.\u001b[39;49m\u001b[43mmethod\u001b[49m\u001b[43m,\u001b[49m\n\u001b[1;32m    491\u001b[0m \u001b[43m            \u001b[49m\u001b[43murl\u001b[49m\u001b[38;5;241;43m=\u001b[39;49m\u001b[43murl\u001b[49m\u001b[43m,\u001b[49m\n\u001b[1;32m    492\u001b[0m \u001b[43m            \u001b[49m\u001b[43mbody\u001b[49m\u001b[38;5;241;43m=\u001b[39;49m\u001b[43mrequest\u001b[49m\u001b[38;5;241;43m.\u001b[39;49m\u001b[43mbody\u001b[49m\u001b[43m,\u001b[49m\n\u001b[1;32m    493\u001b[0m \u001b[43m            \u001b[49m\u001b[43mheaders\u001b[49m\u001b[38;5;241;43m=\u001b[39;49m\u001b[43mrequest\u001b[49m\u001b[38;5;241;43m.\u001b[39;49m\u001b[43mheaders\u001b[49m\u001b[43m,\u001b[49m\n\u001b[1;32m    494\u001b[0m \u001b[43m            \u001b[49m\u001b[43mredirect\u001b[49m\u001b[38;5;241;43m=\u001b[39;49m\u001b[38;5;28;43;01mFalse\u001b[39;49;00m\u001b[43m,\u001b[49m\n\u001b[1;32m    495\u001b[0m \u001b[43m            \u001b[49m\u001b[43massert_same_host\u001b[49m\u001b[38;5;241;43m=\u001b[39;49m\u001b[38;5;28;43;01mFalse\u001b[39;49;00m\u001b[43m,\u001b[49m\n\u001b[1;32m    496\u001b[0m \u001b[43m            \u001b[49m\u001b[43mpreload_content\u001b[49m\u001b[38;5;241;43m=\u001b[39;49m\u001b[38;5;28;43;01mFalse\u001b[39;49;00m\u001b[43m,\u001b[49m\n\u001b[1;32m    497\u001b[0m \u001b[43m            \u001b[49m\u001b[43mdecode_content\u001b[49m\u001b[38;5;241;43m=\u001b[39;49m\u001b[38;5;28;43;01mFalse\u001b[39;49;00m\u001b[43m,\u001b[49m\n\u001b[1;32m    498\u001b[0m \u001b[43m            \u001b[49m\u001b[43mretries\u001b[49m\u001b[38;5;241;43m=\u001b[39;49m\u001b[38;5;28;43mself\u001b[39;49m\u001b[38;5;241;43m.\u001b[39;49m\u001b[43mmax_retries\u001b[49m\u001b[43m,\u001b[49m\n\u001b[1;32m    499\u001b[0m \u001b[43m            \u001b[49m\u001b[43mtimeout\u001b[49m\u001b[38;5;241;43m=\u001b[39;49m\u001b[43mtimeout\u001b[49m\u001b[43m,\u001b[49m\n\u001b[1;32m    500\u001b[0m \u001b[43m        \u001b[49m\u001b[43m)\u001b[49m\n\u001b[1;32m    502\u001b[0m     \u001b[38;5;66;03m# Send the request.\u001b[39;00m\n\u001b[1;32m    503\u001b[0m     \u001b[38;5;28;01melse\u001b[39;00m:\n\u001b[1;32m    504\u001b[0m         \u001b[38;5;28;01mif\u001b[39;00m \u001b[38;5;28mhasattr\u001b[39m(conn, \u001b[38;5;124m\"\u001b[39m\u001b[38;5;124mproxy_pool\u001b[39m\u001b[38;5;124m\"\u001b[39m):\n",
      "File \u001b[0;32m/opt/homebrew/Cellar/jupyterlab/3.6.1/libexec/lib/python3.11/site-packages/urllib3/connectionpool.py:703\u001b[0m, in \u001b[0;36mHTTPConnectionPool.urlopen\u001b[0;34m(self, method, url, body, headers, retries, redirect, assert_same_host, timeout, pool_timeout, release_conn, chunked, body_pos, **response_kw)\u001b[0m\n\u001b[1;32m    700\u001b[0m     \u001b[38;5;28mself\u001b[39m\u001b[38;5;241m.\u001b[39m_prepare_proxy(conn)\n\u001b[1;32m    702\u001b[0m \u001b[38;5;66;03m# Make the request on the httplib connection object.\u001b[39;00m\n\u001b[0;32m--> 703\u001b[0m httplib_response \u001b[38;5;241m=\u001b[39m \u001b[38;5;28;43mself\u001b[39;49m\u001b[38;5;241;43m.\u001b[39;49m\u001b[43m_make_request\u001b[49m\u001b[43m(\u001b[49m\n\u001b[1;32m    704\u001b[0m \u001b[43m    \u001b[49m\u001b[43mconn\u001b[49m\u001b[43m,\u001b[49m\n\u001b[1;32m    705\u001b[0m \u001b[43m    \u001b[49m\u001b[43mmethod\u001b[49m\u001b[43m,\u001b[49m\n\u001b[1;32m    706\u001b[0m \u001b[43m    \u001b[49m\u001b[43murl\u001b[49m\u001b[43m,\u001b[49m\n\u001b[1;32m    707\u001b[0m \u001b[43m    \u001b[49m\u001b[43mtimeout\u001b[49m\u001b[38;5;241;43m=\u001b[39;49m\u001b[43mtimeout_obj\u001b[49m\u001b[43m,\u001b[49m\n\u001b[1;32m    708\u001b[0m \u001b[43m    \u001b[49m\u001b[43mbody\u001b[49m\u001b[38;5;241;43m=\u001b[39;49m\u001b[43mbody\u001b[49m\u001b[43m,\u001b[49m\n\u001b[1;32m    709\u001b[0m \u001b[43m    \u001b[49m\u001b[43mheaders\u001b[49m\u001b[38;5;241;43m=\u001b[39;49m\u001b[43mheaders\u001b[49m\u001b[43m,\u001b[49m\n\u001b[1;32m    710\u001b[0m \u001b[43m    \u001b[49m\u001b[43mchunked\u001b[49m\u001b[38;5;241;43m=\u001b[39;49m\u001b[43mchunked\u001b[49m\u001b[43m,\u001b[49m\n\u001b[1;32m    711\u001b[0m \u001b[43m\u001b[49m\u001b[43m)\u001b[49m\n\u001b[1;32m    713\u001b[0m \u001b[38;5;66;03m# If we're going to release the connection in ``finally:``, then\u001b[39;00m\n\u001b[1;32m    714\u001b[0m \u001b[38;5;66;03m# the response doesn't need to know about the connection. Otherwise\u001b[39;00m\n\u001b[1;32m    715\u001b[0m \u001b[38;5;66;03m# it will also try to release it and we'll have a double-release\u001b[39;00m\n\u001b[1;32m    716\u001b[0m \u001b[38;5;66;03m# mess.\u001b[39;00m\n\u001b[1;32m    717\u001b[0m response_conn \u001b[38;5;241m=\u001b[39m conn \u001b[38;5;28;01mif\u001b[39;00m \u001b[38;5;129;01mnot\u001b[39;00m release_conn \u001b[38;5;28;01melse\u001b[39;00m \u001b[38;5;28;01mNone\u001b[39;00m\n",
      "File \u001b[0;32m/opt/homebrew/Cellar/jupyterlab/3.6.1/libexec/lib/python3.11/site-packages/urllib3/connectionpool.py:449\u001b[0m, in \u001b[0;36mHTTPConnectionPool._make_request\u001b[0;34m(self, conn, method, url, timeout, chunked, **httplib_request_kw)\u001b[0m\n\u001b[1;32m    444\u001b[0m             httplib_response \u001b[38;5;241m=\u001b[39m conn\u001b[38;5;241m.\u001b[39mgetresponse()\n\u001b[1;32m    445\u001b[0m         \u001b[38;5;28;01mexcept\u001b[39;00m \u001b[38;5;167;01mBaseException\u001b[39;00m \u001b[38;5;28;01mas\u001b[39;00m e:\n\u001b[1;32m    446\u001b[0m             \u001b[38;5;66;03m# Remove the TypeError from the exception chain in\u001b[39;00m\n\u001b[1;32m    447\u001b[0m             \u001b[38;5;66;03m# Python 3 (including for exceptions like SystemExit).\u001b[39;00m\n\u001b[1;32m    448\u001b[0m             \u001b[38;5;66;03m# Otherwise it looks like a bug in the code.\u001b[39;00m\n\u001b[0;32m--> 449\u001b[0m             \u001b[43msix\u001b[49m\u001b[38;5;241;43m.\u001b[39;49m\u001b[43mraise_from\u001b[49m\u001b[43m(\u001b[49m\u001b[43me\u001b[49m\u001b[43m,\u001b[49m\u001b[43m \u001b[49m\u001b[38;5;28;43;01mNone\u001b[39;49;00m\u001b[43m)\u001b[49m\n\u001b[1;32m    450\u001b[0m \u001b[38;5;28;01mexcept\u001b[39;00m (SocketTimeout, BaseSSLError, SocketError) \u001b[38;5;28;01mas\u001b[39;00m e:\n\u001b[1;32m    451\u001b[0m     \u001b[38;5;28mself\u001b[39m\u001b[38;5;241m.\u001b[39m_raise_timeout(err\u001b[38;5;241m=\u001b[39me, url\u001b[38;5;241m=\u001b[39murl, timeout_value\u001b[38;5;241m=\u001b[39mread_timeout)\n",
      "File \u001b[0;32m<string>:3\u001b[0m, in \u001b[0;36mraise_from\u001b[0;34m(value, from_value)\u001b[0m\n",
      "File \u001b[0;32m/opt/homebrew/Cellar/jupyterlab/3.6.1/libexec/lib/python3.11/site-packages/urllib3/connectionpool.py:444\u001b[0m, in \u001b[0;36mHTTPConnectionPool._make_request\u001b[0;34m(self, conn, method, url, timeout, chunked, **httplib_request_kw)\u001b[0m\n\u001b[1;32m    441\u001b[0m \u001b[38;5;28;01mexcept\u001b[39;00m \u001b[38;5;167;01mTypeError\u001b[39;00m:\n\u001b[1;32m    442\u001b[0m     \u001b[38;5;66;03m# Python 3\u001b[39;00m\n\u001b[1;32m    443\u001b[0m     \u001b[38;5;28;01mtry\u001b[39;00m:\n\u001b[0;32m--> 444\u001b[0m         httplib_response \u001b[38;5;241m=\u001b[39m \u001b[43mconn\u001b[49m\u001b[38;5;241;43m.\u001b[39;49m\u001b[43mgetresponse\u001b[49m\u001b[43m(\u001b[49m\u001b[43m)\u001b[49m\n\u001b[1;32m    445\u001b[0m     \u001b[38;5;28;01mexcept\u001b[39;00m \u001b[38;5;167;01mBaseException\u001b[39;00m \u001b[38;5;28;01mas\u001b[39;00m e:\n\u001b[1;32m    446\u001b[0m         \u001b[38;5;66;03m# Remove the TypeError from the exception chain in\u001b[39;00m\n\u001b[1;32m    447\u001b[0m         \u001b[38;5;66;03m# Python 3 (including for exceptions like SystemExit).\u001b[39;00m\n\u001b[1;32m    448\u001b[0m         \u001b[38;5;66;03m# Otherwise it looks like a bug in the code.\u001b[39;00m\n\u001b[1;32m    449\u001b[0m         six\u001b[38;5;241m.\u001b[39mraise_from(e, \u001b[38;5;28;01mNone\u001b[39;00m)\n",
      "File \u001b[0;32m/opt/homebrew/Cellar/python@3.11/3.11.2/Frameworks/Python.framework/Versions/3.11/lib/python3.11/http/client.py:1374\u001b[0m, in \u001b[0;36mHTTPConnection.getresponse\u001b[0;34m(self)\u001b[0m\n\u001b[1;32m   1372\u001b[0m \u001b[38;5;28;01mtry\u001b[39;00m:\n\u001b[1;32m   1373\u001b[0m     \u001b[38;5;28;01mtry\u001b[39;00m:\n\u001b[0;32m-> 1374\u001b[0m         \u001b[43mresponse\u001b[49m\u001b[38;5;241;43m.\u001b[39;49m\u001b[43mbegin\u001b[49m\u001b[43m(\u001b[49m\u001b[43m)\u001b[49m\n\u001b[1;32m   1375\u001b[0m     \u001b[38;5;28;01mexcept\u001b[39;00m \u001b[38;5;167;01mConnectionError\u001b[39;00m:\n\u001b[1;32m   1376\u001b[0m         \u001b[38;5;28mself\u001b[39m\u001b[38;5;241m.\u001b[39mclose()\n",
      "File \u001b[0;32m/opt/homebrew/Cellar/python@3.11/3.11.2/Frameworks/Python.framework/Versions/3.11/lib/python3.11/http/client.py:318\u001b[0m, in \u001b[0;36mHTTPResponse.begin\u001b[0;34m(self)\u001b[0m\n\u001b[1;32m    316\u001b[0m \u001b[38;5;66;03m# read until we get a non-100 response\u001b[39;00m\n\u001b[1;32m    317\u001b[0m \u001b[38;5;28;01mwhile\u001b[39;00m \u001b[38;5;28;01mTrue\u001b[39;00m:\n\u001b[0;32m--> 318\u001b[0m     version, status, reason \u001b[38;5;241m=\u001b[39m \u001b[38;5;28;43mself\u001b[39;49m\u001b[38;5;241;43m.\u001b[39;49m\u001b[43m_read_status\u001b[49m\u001b[43m(\u001b[49m\u001b[43m)\u001b[49m\n\u001b[1;32m    319\u001b[0m     \u001b[38;5;28;01mif\u001b[39;00m status \u001b[38;5;241m!=\u001b[39m CONTINUE:\n\u001b[1;32m    320\u001b[0m         \u001b[38;5;28;01mbreak\u001b[39;00m\n",
      "File \u001b[0;32m/opt/homebrew/Cellar/python@3.11/3.11.2/Frameworks/Python.framework/Versions/3.11/lib/python3.11/http/client.py:279\u001b[0m, in \u001b[0;36mHTTPResponse._read_status\u001b[0;34m(self)\u001b[0m\n\u001b[1;32m    278\u001b[0m \u001b[38;5;28;01mdef\u001b[39;00m \u001b[38;5;21m_read_status\u001b[39m(\u001b[38;5;28mself\u001b[39m):\n\u001b[0;32m--> 279\u001b[0m     line \u001b[38;5;241m=\u001b[39m \u001b[38;5;28mstr\u001b[39m(\u001b[38;5;28mself\u001b[39m\u001b[38;5;241m.\u001b[39mfp\u001b[38;5;241m.\u001b[39mreadline(_MAXLINE \u001b[38;5;241m+\u001b[39m \u001b[38;5;241m1\u001b[39m), \u001b[38;5;124m\"\u001b[39m\u001b[38;5;124miso-8859-1\u001b[39m\u001b[38;5;124m\"\u001b[39m)\n\u001b[1;32m    280\u001b[0m     \u001b[38;5;28;01mif\u001b[39;00m \u001b[38;5;28mlen\u001b[39m(line) \u001b[38;5;241m>\u001b[39m _MAXLINE:\n\u001b[1;32m    281\u001b[0m         \u001b[38;5;28;01mraise\u001b[39;00m LineTooLong(\u001b[38;5;124m\"\u001b[39m\u001b[38;5;124mstatus line\u001b[39m\u001b[38;5;124m\"\u001b[39m)\n",
      "File \u001b[0;32m/opt/homebrew/Cellar/python@3.11/3.11.2/Frameworks/Python.framework/Versions/3.11/lib/python3.11/socket.py:706\u001b[0m, in \u001b[0;36mSocketIO.readinto\u001b[0;34m(self, b)\u001b[0m\n\u001b[1;32m    704\u001b[0m \u001b[38;5;28;01mwhile\u001b[39;00m \u001b[38;5;28;01mTrue\u001b[39;00m:\n\u001b[1;32m    705\u001b[0m     \u001b[38;5;28;01mtry\u001b[39;00m:\n\u001b[0;32m--> 706\u001b[0m         \u001b[38;5;28;01mreturn\u001b[39;00m \u001b[38;5;28;43mself\u001b[39;49m\u001b[38;5;241;43m.\u001b[39;49m\u001b[43m_sock\u001b[49m\u001b[38;5;241;43m.\u001b[39;49m\u001b[43mrecv_into\u001b[49m\u001b[43m(\u001b[49m\u001b[43mb\u001b[49m\u001b[43m)\u001b[49m\n\u001b[1;32m    707\u001b[0m     \u001b[38;5;28;01mexcept\u001b[39;00m timeout:\n\u001b[1;32m    708\u001b[0m         \u001b[38;5;28mself\u001b[39m\u001b[38;5;241m.\u001b[39m_timeout_occurred \u001b[38;5;241m=\u001b[39m \u001b[38;5;28;01mTrue\u001b[39;00m\n",
      "\u001b[0;31mKeyboardInterrupt\u001b[0m: "
     ]
    }
   ],
   "source": [
    "block_create(\n",
    "    account_1_info['frontier'],\n",
    "    account_1.account,\n",
    "    account_1_info['representative'],\n",
    "    new_balance,\n",
    "    account_2.account,\n",
    "    account_1.key\n",
    ")"
   ]
  },
  {
   "cell_type": "code",
   "execution_count": null,
   "id": "ac4d05f9",
   "metadata": {},
   "outputs": [],
   "source": [
    "block_create_response"
   ]
  },
  {
   "cell_type": "markdown",
   "id": "4a3dabde",
   "metadata": {},
   "source": [
    "# Misc testing below here"
   ]
  },
  {
   "cell_type": "code",
   "execution_count": null,
   "id": "b8613684",
   "metadata": {},
   "outputs": [],
   "source": [
    "account2 = 'nano_1c4r3qnrpi4eohg4ko8681shj31kjbw54cnezrjfnhusjfwo89xzes84ujpe'\n",
    "account_info(account2)"
   ]
  },
  {
   "cell_type": "code",
   "execution_count": null,
   "id": "7e04ab18",
   "metadata": {},
   "outputs": [],
   "source": [
    "send(wallet, account, account2, 1)"
   ]
  },
  {
   "cell_type": "code",
   "execution_count": null,
   "id": "3ca03d58",
   "metadata": {},
   "outputs": [],
   "source": [
    "receive(wallet, account2, '669ADA355C1C4901B7EFD312F66EEBCC837D15202F947EFA31F0860FD1F235ED')"
   ]
  },
  {
   "cell_type": "code",
   "execution_count": null,
   "id": "c118c775",
   "metadata": {},
   "outputs": [],
   "source": [
    "accounts = accounts_create(wallet, 5)\n",
    "amount = 1000\n",
    "# send XNO to test accounts to activate them\n",
    "for _account in accounts['accounts']:\n",
    "    print('sending %s from %s to %s', amount, account, _account)\n",
    "    # send 1 from main wallet to clone wallet\n",
    "    block = send(wallet, account, _account, amount)\n",
    "    print(block)\n",
    "    time.sleep(10)\n",
    "    print(await receivable_promise(wallet, _account))\n",
    "    time.sleep(10)\n",
    "    print(account_info(_account))  # should reflect the amount added\n",
    "    \n",
    "    # send it back to the main wallet \n",
    "    \n",
    "    print('sending %s from %s to %s', amount, _account, account)\n",
    "    block = send(wallet, _account, account, amount)\n",
    "    print(block)\n",
    "    time.sleep(10)\n",
    "    print(await receivable_promise(wallet, account))\n",
    "    time.sleep(10)\n",
    "    print(account_info(_account))  # should reflect the amount removed\n"
   ]
  },
  {
   "cell_type": "code",
   "execution_count": null,
   "id": "31c804ca",
   "metadata": {},
   "outputs": [],
   "source": [
    "account_info('nano_16zrw6pi1tsm6kgt3uxc5gkt5osrs9pxycwybx6qtxoqxnehi4aaq1z5rops')"
   ]
  },
  {
   "cell_type": "code",
   "execution_count": null,
   "id": "f0fc70d4",
   "metadata": {},
   "outputs": [],
   "source": []
  },
  {
   "cell_type": "code",
   "execution_count": null,
   "id": "c2f03f17",
   "metadata": {},
   "outputs": [],
   "source": []
  },
  {
   "cell_type": "code",
   "execution_count": null,
   "id": "1f051e3d",
   "metadata": {},
   "outputs": [],
   "source": []
  },
  {
   "cell_type": "code",
   "execution_count": null,
   "id": "a7d3ee9f",
   "metadata": {},
   "outputs": [],
   "source": []
  }
 ],
 "metadata": {
  "kernelspec": {
   "display_name": "env3.11",
   "language": "python",
   "name": "python3"
  },
  "language_info": {
   "codemirror_mode": {
    "name": "ipython",
    "version": 3
   },
   "file_extension": ".py",
   "mimetype": "text/x-python",
   "name": "python",
   "nbconvert_exporter": "python",
   "pygments_lexer": "ipython3",
   "version": "3.11.3"
  }
 },
 "nbformat": 4,
 "nbformat_minor": 5
}
